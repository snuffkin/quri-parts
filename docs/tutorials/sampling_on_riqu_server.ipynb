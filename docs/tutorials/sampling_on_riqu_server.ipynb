{
 "cells": [
  {
   "attachments": {},
   "cell_type": "markdown",
   "id": "a533cde3",
   "metadata": {},
   "source": [
    "# Sampling on riqu server\n",
    "\n",
    "In the previous section ([Sampling simulation](sampling_simulation.ipynb)), we described how to estimate expectation value of operators using sampling measurements on a quantum circuit simulator. Since QURI Parts is designed to be platform independent, you can execute almost the same code on a real quantum computer."
   ]
  },
  {
   "attachments": {},
   "cell_type": "markdown",
   "id": "f0ff7af6",
   "metadata": {},
   "source": [
    "## Prerequisite\n",
    "\n",
    "This section requires topics described in the previous section ([Sampling simulation](sampling_simulation.ipynb)), so you need to read it before this section.\n",
    "\n",
    "*riqu*, short for \"**R**EST **I**nterface for **Qu**antum Computer\", is an interface for performing quantum computers.\n",
    "riqu is a REST interface, and post requests of jobs include OpenQASM 3 format quantum circuits.\n",
    "However, riqu currently supports only a subset of OpenQASM 3, such as basic gates and measurements.\n",
    "*riqu server* performs quantum circuits through riqu interface as a cloud service.\n",
    "\n",
    "We use riqu server as an example of a platform with real quantum computers. In order to use riqu, you need to sign up for riqu server. Please contact riqu server operator for information on how to sign up. In this section, instead, we perform quantum circuits on riqu server.\n",
    "\n",
    "QURI Parts modules used in this tutorial: `quri-parts-circuit`, `quri-parts-core`, `quri-parts-openqasm` and `quri-parts-riqu`. You can install them as follows:"
   ]
  },
  {
   "cell_type": "code",
   "execution_count": null,
   "id": "cdf46a7a",
   "metadata": {},
   "outputs": [],
   "source": [
    "!pip install \"quri-parts[riqu]\""
   ]
  },
  {
   "attachments": {},
   "cell_type": "markdown",
   "id": "b6f5ddab",
   "metadata": {},
   "source": [
    "## Prepare ``~/.riqu`` configuration file\n",
    "\n",
    "Create a configuration file in path ``~/.riqu``.\n",
    "Replace ``<base URL>`` and ``<API token>`` with your settings for riqu server and execute the following code:"
   ]
  },
  {
   "cell_type": "code",
   "execution_count": 11,
   "id": "f1d44aaa",
   "metadata": {},
   "outputs": [],
   "source": [
    "import os\n",
    "\n",
    "config = \"\"\"[default]\n",
    "url=<base URL>\n",
    "api_token=<API token>\n",
    "\"\"\"\n",
    "with open(os.path.expanduser(\"~/.riqu.txt\"), \"w\") as f:\n",
    "    f.write(config)"
   ]
  },
  {
   "cell_type": "markdown",
   "id": "8aaa543b",
   "metadata": {},
   "source": [
    "## Prepare a circuit\n",
    "\n",
    "As a preparation, we create a circuit to be sampled:"
   ]
  },
  {
   "cell_type": "code",
   "execution_count": 1,
   "id": "89fd8970",
   "metadata": {},
   "outputs": [],
   "source": [
    "from math import pi\n",
    "from quri_parts.circuit import QuantumCircuit\n",
    "# A circuit with 4 qubits\n",
    "circuit = QuantumCircuit(4)\n",
    "circuit.add_X_gate(0)\n",
    "circuit.add_H_gate(1)\n",
    "circuit.add_Y_gate(2)\n",
    "circuit.add_CNOT_gate(1, 2)\n",
    "circuit.add_RX_gate(3, pi/4)"
   ]
  },
  {
   "attachments": {},
   "cell_type": "markdown",
   "id": "ddbcded0",
   "metadata": {},
   "source": [
    "## SamplingBackend\n",
    "\n",
    "In order to use a real device, you need to create a `SamplingBackend` object and then a `Sampler` using the backend. The `SamplingBackend` provides a unified interface for handling various backend devices, computation jobs for the devices and results of the jobs. "
   ]
  },
  {
   "cell_type": "code",
   "execution_count": 3,
   "id": "c6e85888",
   "metadata": {},
   "outputs": [],
   "source": [
    "from quri_parts.riqu.backend import RiquSamplingBackend\n",
    "\n",
    "# Create a SamplingBackend with the device\n",
    "backend = RiquSamplingBackend()"
   ]
  },
  {
   "cell_type": "markdown",
   "id": "d552513b",
   "metadata": {},
   "source": [
    "It is possible to use this backend directly, though it is usually unnecessary as we will see below. The `SamplingBackend` has `sample()` method, which returns a `SamplingJob` object, and you can extract a result of the sampling job:"
   ]
  },
  {
   "cell_type": "code",
   "execution_count": 4,
   "id": "e0e34af0",
   "metadata": {},
   "outputs": [
    {
     "name": "stdout",
     "output_type": "stream",
     "text": [
      "Counter({5: 445, 3: 397, 13: 82, 11: 76})\n"
     ]
    }
   ],
   "source": [
    "job = backend.sample(circuit, n_shots=1000)\n",
    "result = job.result()\n",
    "print(result.counts)"
   ]
  },
  {
   "attachments": {},
   "cell_type": "markdown",
   "id": "99617015",
   "metadata": {},
   "source": [
    "## Sampler\n",
    "\n",
    "Instead of using the backend directly, you can create a `Sampler` from it.\n",
    "See the [tutorial](../tutorials/sampling_real.html#SamplingBackend-and-Sampler) for more details."
   ]
  },
  {
   "attachments": {},
   "cell_type": "markdown",
   "id": "0107c023",
   "metadata": {},
   "source": [
    "## Notes\n",
    "\n",
    "- `quri-parts-riqu` is experimental and may undergo breaking changes without notice.\n",
    "Use it at your own risk.\n",
    "- See the [API Reference](../quri_parts/riqu/quri_parts.riqu.html) for more details."
   ]
  },
  {
   "cell_type": "markdown",
   "id": "afd2f807",
   "metadata": {},
   "source": []
  }
 ],
 "metadata": {
  "kernelspec": {
   "display_name": "Python 3 (ipykernel)",
   "language": "python",
   "name": "python3"
  },
  "language_info": {
   "codemirror_mode": {
    "name": "ipython",
    "version": 3
   },
   "file_extension": ".py",
   "mimetype": "text/x-python",
   "name": "python",
   "nbconvert_exporter": "python",
   "pygments_lexer": "ipython3",
   "version": "3.10.6"
  }
 },
 "nbformat": 4,
 "nbformat_minor": 5
}
